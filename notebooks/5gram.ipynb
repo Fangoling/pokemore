{
 "cells": [
  {
   "cell_type": "code",
   "execution_count": 16,
   "id": "9b5c2594-8d21-46de-9400-b50ade1a45ff",
   "metadata": {},
   "outputs": [],
   "source": [
    "import re\n",
    "words = open('../words/names.txt').read().splitlines()\n",
    "words = [re.sub(r'[^a-z]','',word.lower()) for word in words]"
   ]
  },
  {
   "cell_type": "code",
   "execution_count": 17,
   "id": "8c89aad5-4493-4b64-b56d-b1b98cf8667f",
   "metadata": {},
   "outputs": [],
   "source": [
    "characters = list('.abcdefghijklmnopqrstuvwxyz')\n",
    "stoi = {s:i for i,s in enumerate(characters)}\n",
    "itos = {i:s for s,i in stoi.items()}"
   ]
  },
  {
   "cell_type": "code",
   "execution_count": 18,
   "id": "4e595906-38c9-4ba7-b6c9-6680b7af578c",
   "metadata": {},
   "outputs": [],
   "source": [
    "import torch\n",
    "import torch.nn.functional as F"
   ]
  },
  {
   "cell_type": "code",
   "execution_count": 19,
   "id": "bb6c33d9-33d1-4493-b0ed-440ecef66f24",
   "metadata": {},
   "outputs": [],
   "source": [
    "xs = []\n",
    "ys = []\n",
    "for word in words:\n",
    "    chs = ['.','.','.','.'] + list(word) + ['.']\n",
    "    for ch1, ch2, ch3, ch4, ch5 in zip(chs, chs[1:], chs[2:], chs[3:], chs[4:]):\n",
    "        ix1, ix2, ix3, ix4, ix5 = stoi[ch1], stoi[ch2], stoi[ch3], stoi[ch4], stoi[ch5]\n",
    "        xs.append((ix1,ix2,ix3,ix4))\n",
    "        ys.append(ix5)\n",
    "        \n",
    "xs = torch.tensor(xs)\n",
    "ys = torch.tensor(ys)\n",
    "\n",
    "g1 = torch.Generator().manual_seed(2147483647)\n",
    "W = torch.randn((108,27), generator=g1, requires_grad=True)"
   ]
  },
  {
   "cell_type": "code",
   "execution_count": 20,
   "id": "d292bf67-167f-49ba-b418-befe868e7322",
   "metadata": {},
   "outputs": [],
   "source": [
    "from torch.utils.data import TensorDataset\n",
    "dataset = TensorDataset(xs, ys)\n",
    "g2 = torch.Generator().manual_seed(2147483647)\n",
    "train_set, dev_set, test_set = torch.utils.data.random_split(dataset, [.8,.1,.1], generator=g2)"
   ]
  },
  {
   "cell_type": "code",
   "execution_count": 21,
   "id": "559f159a-a5a0-4eb5-bb11-86214d07a6f2",
   "metadata": {},
   "outputs": [],
   "source": [
    "x_train = torch.stack([train_set[i][0]for i in range (len(train_set))])\n",
    "y_train = torch.stack([train_set[i][1]for i in range (len(train_set))])"
   ]
  },
  {
   "cell_type": "code",
   "execution_count": 28,
   "id": "02cb78ca-9909-4e56-95bf-1d2407628380",
   "metadata": {},
   "outputs": [],
   "source": [
    "# training\n",
    "for i in range (100):\n",
    "    # forward\n",
    "    logits = W[x_train[:, 0]]\n",
    "    for i in range(1,4):\n",
    "        logits += W[x_train[:, i] + 27*i]\n",
    "    loss = F.cross_entropy(logits, y_train)\n",
    "    # backward\n",
    "    W.grad = None\n",
    "    loss.backward()\n",
    "    # update\n",
    "    W.data += -5 * W.grad"
   ]
  },
  {
   "cell_type": "code",
   "execution_count": 29,
   "id": "2b232690-de1e-466f-bf5d-0c96a7649383",
   "metadata": {},
   "outputs": [
    {
     "data": {
      "text/plain": [
       "2.4327328205108643"
      ]
     },
     "execution_count": 29,
     "metadata": {},
     "output_type": "execute_result"
    }
   ],
   "source": [
    "loss.item()"
   ]
  },
  {
   "cell_type": "code",
   "execution_count": 30,
   "id": "0db55327-d842-41c9-978c-1115f6e38c0d",
   "metadata": {},
   "outputs": [
    {
     "name": "stdout",
     "output_type": "stream",
     "text": [
      "cexbbazom\n",
      "surkiochity\n",
      "well\n",
      "imittaroraggak\n",
      "kanda\n",
      "sear\n",
      "publtos\n",
      "miotas\n",
      "moriee\n",
      "toog\n",
      "wotedowka\n",
      "havthssde\n",
      "enkavglry\n",
      "fobsp\n",
      "hinide\n",
      "vtarlasc\n",
      "dsdrv\n",
      "lewilep\n",
      "awaist\n",
      "pinp\n"
     ]
    }
   ],
   "source": [
    "g = torch.Generator().manual_seed(2147483647)\n",
    "for i in range(20):\n",
    "    w = '....'\n",
    "    while True:\n",
    "        logits = torch.zeros(27)\n",
    "        context = w[-4:]\n",
    "        for i in range(4):\n",
    "            ix = stoi[context[i]]\n",
    "            logits += W[ix + i*27]\n",
    "        counts = logits.exp()\n",
    "        prob = counts / counts.sum(0, keepdims=True)\n",
    "        ix = torch.multinomial(prob, 1, generator=g)\n",
    "        char = itos[ix.item()]\n",
    "        if char == '.':\n",
    "            break\n",
    "        w += char\n",
    "    print(w[4:])"
   ]
  }
 ],
 "metadata": {
  "kernelspec": {
   "display_name": "Python 3 (ipykernel)",
   "language": "python",
   "name": "python3"
  },
  "language_info": {
   "codemirror_mode": {
    "name": "ipython",
    "version": 3
   },
   "file_extension": ".py",
   "mimetype": "text/x-python",
   "name": "python",
   "nbconvert_exporter": "python",
   "pygments_lexer": "ipython3",
   "version": "3.13.2"
  }
 },
 "nbformat": 4,
 "nbformat_minor": 5
}
